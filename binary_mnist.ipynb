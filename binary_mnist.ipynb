{
  "nbformat": 4,
  "nbformat_minor": 0,
  "metadata": {
    "colab": {
      "provenance": [],
      "authorship_tag": "ABX9TyM+dVbYwKAlFnIsetFvry0W",
      "include_colab_link": true
    },
    "kernelspec": {
      "name": "python3",
      "display_name": "Python 3"
    },
    "language_info": {
      "name": "python"
    }
  },
  "cells": [
    {
      "cell_type": "markdown",
      "metadata": {
        "id": "view-in-github",
        "colab_type": "text"
      },
      "source": [
        "<a href=\"https://colab.research.google.com/github/Sushmitha-712/bmi-app/blob/main/binary_mnist.ipynb\" target=\"_parent\"><img src=\"https://colab.research.google.com/assets/colab-badge.svg\" alt=\"Open In Colab\"/></a>"
      ]
    },
    {
      "cell_type": "code",
      "execution_count": 3,
      "metadata": {
        "colab": {
          "base_uri": "https://localhost:8080/",
          "height": 1000
        },
        "id": "nC-EICpCWLmi",
        "outputId": "3cf157f5-9daf-4258-8c18-4e24bbbcada2"
      },
      "outputs": [
        {
          "output_type": "stream",
          "name": "stdout",
          "text": [
            "Extracting 'mnist.csv'\n",
            "✅ Dataset extracted successfully\n",
            "Shape: (70000, 784)\n",
            "\n",
            "Training Logistic Regression model...\n"
          ]
        },
        {
          "output_type": "stream",
          "name": "stderr",
          "text": [
            "/usr/local/lib/python3.12/dist-packages/sklearn/linear_model/_logistic.py:465: ConvergenceWarning: lbfgs failed to converge (status=1):\n",
            "STOP: TOTAL NO. OF ITERATIONS REACHED LIMIT.\n",
            "\n",
            "Increase the number of iterations (max_iter) or scale the data as shown in:\n",
            "    https://scikit-learn.org/stable/modules/preprocessing.html\n",
            "Please also refer to the documentation for alternative solver options:\n",
            "    https://scikit-learn.org/stable/modules/linear_model.html#logistic-regression\n",
            "  n_iter_i = _check_optimize_result(\n"
          ]
        },
        {
          "output_type": "stream",
          "name": "stdout",
          "text": [
            "✅ Model trained successfully!\n",
            "\n",
            "📊 Model Evaluation Results:\n",
            "Accuracy  : 0.9744\n",
            "Precision : 0.8926\n",
            "Recall    : 0.8162\n",
            "F1 Score  : 0.8527\n",
            "\n",
            "Confusion Matrix:\n",
            "[[12602   125]\n",
            " [  234  1039]]\n",
            "\n",
            "Classification Report:\n",
            "              precision    recall  f1-score   support\n",
            "\n",
            "       Not 5       0.98      0.99      0.99     12727\n",
            "           5       0.89      0.82      0.85      1273\n",
            "\n",
            "    accuracy                           0.97     14000\n",
            "   macro avg       0.94      0.90      0.92     14000\n",
            "weighted avg       0.97      0.97      0.97     14000\n",
            "\n"
          ]
        },
        {
          "output_type": "display_data",
          "data": {
            "text/plain": [
              "<Figure size 1000x500 with 10 Axes>"
            ],
            "image/png": "[encoded data removed]"
          },
          "metadata": {}
        }
      ],
      "source": [
        "# ===============================================\n",
        "# Objective: Implement a classifier for the MNIST dataset\n",
        "# Task: Train a binary classifier and evaluate its performance\n",
        "# ===============================================\n",
        "\n",
        "# Step 1: Import libraries\n",
        "import numpy as np\n",
        "import pandas as pd\n",
        "import matplotlib.pyplot as plt\n",
        "from sklearn.datasets import fetch_openml\n",
        "from sklearn.model_selection import train_test_split\n",
        "from sklearn.linear_model import LogisticRegression\n",
        "from sklearn.metrics import (\n",
        "    accuracy_score, precision_score, recall_score, f1_score, confusion_matrix, classification_report\n",
        ")\n",
        "\n",
        "\n",
        "print(\"Extracting 'mnist.csv'\")\n",
        "mnist = fetch_openml('mnist_784', version=1, as_frame=False)\n",
        "X, y = mnist[\"data\"], mnist[\"target\"].astype(int)\n",
        "print(\"✅ Dataset extracted successfully\")\n",
        "print(\"Shape:\", X.shape)\n",
        "\n",
        "\n",
        "y_binary = (y == 5).astype(int)\n",
        "\n",
        "\n",
        "# -------------------------------------------------------------\n",
        "# Step 4: Split train and test data\n",
        "# -------------------------------------------------------------\n",
        "X_train, X_test, y_train, y_test = train_test_split(\n",
        "    X, y_binary, test_size=0.2, random_state=42\n",
        ")\n",
        "\n",
        "# -------------------------------------------------------------\n",
        "# Step 5: Train classifier (Logistic Regression)\n",
        "# -------------------------------------------------------------\n",
        "print(\"\\nTraining Logistic Regression model...\")\n",
        "model = LogisticRegression(max_iter=1000)\n",
        "model.fit(X_train, y_train)\n",
        "print(\"✅ Model trained successfully!\")\n",
        "\n",
        "# -------------------------------------------------------------\n",
        "# Step 6: Make predictions\n",
        "# -------------------------------------------------------------\n",
        "y_pred = model.predict(X_test)\n",
        "\n",
        "# -------------------------------------------------------------\n",
        "# Step 7: Evaluate performance\n",
        "# -------------------------------------------------------------\n",
        "accuracy = accuracy_score(y_test, y_pred)\n",
        "precision = precision_score(y_test, y_pred)\n",
        "recall = recall_score(y_test, y_pred)\n",
        "f1 = f1_score(y_test, y_pred)\n",
        "\n",
        "print(\"\\n📊 Model Evaluation Results:\")\n",
        "print(f\"Accuracy  : {accuracy:.4f}\")\n",
        "print(f\"Precision : {precision:.4f}\")\n",
        "print(f\"Recall    : {recall:.4f}\")\n",
        "print(f\"F1 Score  : {f1:.4f}\")\n",
        "\n",
        "# -------------------------------------------------------------\n",
        "# Step 8: Confusion Matrix & Report\n",
        "# -------------------------------------------------------------\n",
        "print(\"\\nConfusion Matrix:\")\n",
        "print(confusion_matrix(y_test, y_pred))\n",
        "\n",
        "print(\"\\nClassification Report:\")\n",
        "print(classification_report(y_test, y_pred, target_names=[\"Not 5\", \"5\"]))\n",
        "\n",
        "# -------------------------------------------------------------\n",
        "# Step 9: Visualize a few results\n",
        "# -------------------------------------------------------------\n",
        "fig, axes = plt.subplots(2, 5, figsize=(10, 5))\n",
        "for i, ax in enumerate(axes.flat):\n",
        "    ax.imshow(X_test[i].reshape(28, 28), cmap='gray')\n",
        "    ax.set_title(f\"Pred: {y_pred[i]}, True: {y_test[i]}\")\n",
        "    ax.axis('off')\n",
        "plt.suptitle(\"MNIST Binary Classification (5 vs Not 5)\")\n",
        "plt.show()\n"
      ]
    }
  ]
}